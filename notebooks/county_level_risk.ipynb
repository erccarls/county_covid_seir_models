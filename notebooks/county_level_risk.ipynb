{
 "cells": [
  {
   "cell_type": "code",
   "execution_count": 4,
   "metadata": {},
   "outputs": [
    {
     "name": "stderr",
     "output_type": "stream",
     "text": [
      "WARNING:root:Could not import GSheetUtils. Ignoring.  No module named 'oauth2client' \n"
     ]
    }
   ],
   "source": [
    "from pygrounds.utils.warehouse.ds_warehouse import DSWarehouse\n",
    "import pandas as pd\n",
    "import numpy as np\n",
    "import seaborn as sns\n",
    "import matplotlib.pyplot as plt\n",
    "\n",
    "%matplotlib inline"
   ]
  },
  {
   "cell_type": "code",
   "execution_count": 2,
   "metadata": {},
   "outputs": [],
   "source": [
    "dsw = DSWarehouse()"
   ]
  },
  {
   "cell_type": "code",
   "execution_count": 16,
   "metadata": {},
   "outputs": [],
   "source": [
    "counties = pd.read_csv('/Users/rwolf/Desktop/county_adjacency.txt', sep='\\t', encoding='cp1252')"
   ]
  },
  {
   "cell_type": "code",
   "execution_count": 17,
   "metadata": {},
   "outputs": [],
   "source": [
    "counties.columns = ['county', 'geocode', 'trash1', 'trash2']\n",
    "counties = counties.loc[(~counties.county.isnull()) & (~counties.geocode.isnull()) , ['county', 'geocode']]"
   ]
  },
  {
   "cell_type": "code",
   "execution_count": 14,
   "metadata": {},
   "outputs": [
    {
     "data": {
      "text/plain": [
       "county     3232\n",
       "geocode    3233\n",
       "dtype: int64"
      ]
     },
     "execution_count": 14,
     "metadata": {},
     "output_type": "execute_result"
    }
   ],
   "source": []
  },
  {
   "cell_type": "code",
   "execution_count": 22,
   "metadata": {},
   "outputs": [],
   "source": [
    "ca_counties = counties.loc[counties['county'].str.contains(', CA')]"
   ]
  },
  {
   "cell_type": "markdown",
   "metadata": {},
   "source": [
    "### Get Disease info"
   ]
  },
  {
   "cell_type": "code",
   "execution_count": 6,
   "metadata": {},
   "outputs": [],
   "source": [
    "excel_path = '/Users/rwolf/Downloads/County_Table_Chronic_Conditions_Prevalence_by_Age_2017.xlsx'\n",
    "disease_old = pd.read_excel(excel_path, sheet_name='Beneficiaries 65 Years and Over', skiprows=5, na_values=['* '])\n",
    "disease_young = pd.read_excel(excel_path, sheet_name='Beneficiaries Less than 65 Year', skiprows=5, na_values=['* '])"
   ]
  },
  {
   "cell_type": "code",
   "execution_count": 8,
   "metadata": {},
   "outputs": [
    {
     "data": {
      "text/plain": [
       "Index(['State', 'County', 'State/County FIPS Code', 'Alcohol Abuse',\n",
       "       'Alzheimer's Disease/Dementia', 'Arthritis', 'Asthma',\n",
       "       'Atrial Fibrillation', 'Autism Spectrum Disorders', 'Cancer',\n",
       "       'Chronic Kidney Disease', 'COPD', 'Depression ', 'Diabetes',\n",
       "       'Drug Abuse/Substance Abuse', 'HIV/AIDS', 'Heart Failure',\n",
       "       'Hepatitis (Chronic Viral B & C)', 'Hyperlipidemia', 'Hypertension',\n",
       "       'Ischemic Heart Disease', 'Osteoporosis',\n",
       "       'Schizophrenia/Other Psychotic Disorders', 'Stroke'],\n",
       "      dtype='object')"
      ]
     },
     "execution_count": 8,
     "metadata": {},
     "output_type": "execute_result"
    }
   ],
   "source": [
    "disease_young.columns"
   ]
  },
  {
   "cell_type": "code",
   "execution_count": 9,
   "metadata": {},
   "outputs": [
    {
     "data": {
      "text/html": [
       "<div>\n",
       "<style scoped>\n",
       "    .dataframe tbody tr th:only-of-type {\n",
       "        vertical-align: middle;\n",
       "    }\n",
       "\n",
       "    .dataframe tbody tr th {\n",
       "        vertical-align: top;\n",
       "    }\n",
       "\n",
       "    .dataframe thead th {\n",
       "        text-align: right;\n",
       "    }\n",
       "</style>\n",
       "<table border=\"1\" class=\"dataframe\">\n",
       "  <thead>\n",
       "    <tr style=\"text-align: right;\">\n",
       "      <th></th>\n",
       "      <th>State</th>\n",
       "      <th>County</th>\n",
       "      <th>State/County FIPS Code</th>\n",
       "      <th>Alcohol Abuse</th>\n",
       "      <th>Alzheimer's Disease/Dementia</th>\n",
       "      <th>Arthritis</th>\n",
       "      <th>Asthma</th>\n",
       "      <th>Atrial Fibrillation</th>\n",
       "      <th>Autism Spectrum Disorders</th>\n",
       "      <th>Cancer</th>\n",
       "      <th>...</th>\n",
       "      <th>Drug Abuse/Substance Abuse</th>\n",
       "      <th>HIV/AIDS</th>\n",
       "      <th>Heart Failure</th>\n",
       "      <th>Hepatitis (Chronic Viral B &amp; C)</th>\n",
       "      <th>Hyperlipidemia</th>\n",
       "      <th>Hypertension</th>\n",
       "      <th>Ischemic Heart Disease</th>\n",
       "      <th>Osteoporosis</th>\n",
       "      <th>Schizophrenia/Other Psychotic Disorders</th>\n",
       "      <th>Stroke</th>\n",
       "    </tr>\n",
       "  </thead>\n",
       "  <tbody>\n",
       "    <tr>\n",
       "      <th>0</th>\n",
       "      <td>National</td>\n",
       "      <td></td>\n",
       "      <td></td>\n",
       "      <td>6.5858</td>\n",
       "      <td>4.3743</td>\n",
       "      <td>27.1315</td>\n",
       "      <td>7.8557</td>\n",
       "      <td>2.2972</td>\n",
       "      <td>1.3647</td>\n",
       "      <td>2.9863</td>\n",
       "      <td>...</td>\n",
       "      <td>12.0901</td>\n",
       "      <td>1.6203</td>\n",
       "      <td>10.3439</td>\n",
       "      <td>2.4773</td>\n",
       "      <td>28.4056</td>\n",
       "      <td>42.5617</td>\n",
       "      <td>16.8898</td>\n",
       "      <td>2.4552</td>\n",
       "      <td>10.1428</td>\n",
       "      <td>2.7288</td>\n",
       "    </tr>\n",
       "    <tr>\n",
       "      <th>1</th>\n",
       "      <td>Alabama</td>\n",
       "      <td></td>\n",
       "      <td></td>\n",
       "      <td>5.3454</td>\n",
       "      <td>3.3975</td>\n",
       "      <td>32.1129</td>\n",
       "      <td>6.6789</td>\n",
       "      <td>2.0159</td>\n",
       "      <td>0.5968</td>\n",
       "      <td>3.0063</td>\n",
       "      <td>...</td>\n",
       "      <td>12.3682</td>\n",
       "      <td>1.1868</td>\n",
       "      <td>11.4412</td>\n",
       "      <td>1.6506</td>\n",
       "      <td>31.0783</td>\n",
       "      <td>51.9059</td>\n",
       "      <td>18.3364</td>\n",
       "      <td>2.0297</td>\n",
       "      <td>7.6647</td>\n",
       "      <td>2.8649</td>\n",
       "    </tr>\n",
       "    <tr>\n",
       "      <th>2</th>\n",
       "      <td>Alabama</td>\n",
       "      <td>Autauga</td>\n",
       "      <td>01001</td>\n",
       "      <td>5.7602</td>\n",
       "      <td>3.1161</td>\n",
       "      <td>28.7063</td>\n",
       "      <td>4.9103</td>\n",
       "      <td>1.8886</td>\n",
       "      <td>NaN</td>\n",
       "      <td>3.0217</td>\n",
       "      <td>...</td>\n",
       "      <td>8.9707</td>\n",
       "      <td>NaN</td>\n",
       "      <td>11.1426</td>\n",
       "      <td>1.4164</td>\n",
       "      <td>32.6723</td>\n",
       "      <td>47.7809</td>\n",
       "      <td>16.9972</td>\n",
       "      <td>3.1161</td>\n",
       "      <td>7.7432</td>\n",
       "      <td>2.5496</td>\n",
       "    </tr>\n",
       "    <tr>\n",
       "      <th>3</th>\n",
       "      <td>Alabama</td>\n",
       "      <td>Baldwin</td>\n",
       "      <td>01003</td>\n",
       "      <td>4.7818</td>\n",
       "      <td>3.7657</td>\n",
       "      <td>34.2499</td>\n",
       "      <td>6.0072</td>\n",
       "      <td>2.4507</td>\n",
       "      <td>NaN</td>\n",
       "      <td>3.5565</td>\n",
       "      <td>...</td>\n",
       "      <td>14.3156</td>\n",
       "      <td>0.8368</td>\n",
       "      <td>9.8027</td>\n",
       "      <td>1.8231</td>\n",
       "      <td>25.6426</td>\n",
       "      <td>43.9928</td>\n",
       "      <td>20.2032</td>\n",
       "      <td>2.3013</td>\n",
       "      <td>5.7980</td>\n",
       "      <td>1.9426</td>\n",
       "    </tr>\n",
       "    <tr>\n",
       "      <th>4</th>\n",
       "      <td>Alabama</td>\n",
       "      <td>Barbour</td>\n",
       "      <td>01005</td>\n",
       "      <td>6.5825</td>\n",
       "      <td>3.1560</td>\n",
       "      <td>29.7565</td>\n",
       "      <td>7.9351</td>\n",
       "      <td>1.7133</td>\n",
       "      <td>NaN</td>\n",
       "      <td>3.0658</td>\n",
       "      <td>...</td>\n",
       "      <td>8.4761</td>\n",
       "      <td>NaN</td>\n",
       "      <td>9.5582</td>\n",
       "      <td>NaN</td>\n",
       "      <td>33.9946</td>\n",
       "      <td>55.1849</td>\n",
       "      <td>14.9684</td>\n",
       "      <td>1.7133</td>\n",
       "      <td>9.0171</td>\n",
       "      <td>2.7051</td>\n",
       "    </tr>\n",
       "  </tbody>\n",
       "</table>\n",
       "<p>5 rows × 24 columns</p>\n",
       "</div>"
      ],
      "text/plain": [
       "       State    County State/County FIPS Code  Alcohol Abuse  \\\n",
       "0  National                                           6.5858   \n",
       "1   Alabama                                           5.3454   \n",
       "2   Alabama   Autauga                  01001          5.7602   \n",
       "3   Alabama   Baldwin                  01003          4.7818   \n",
       "4   Alabama   Barbour                  01005          6.5825   \n",
       "\n",
       "   Alzheimer's Disease/Dementia  Arthritis  Asthma  Atrial Fibrillation  \\\n",
       "0                        4.3743    27.1315  7.8557               2.2972   \n",
       "1                        3.3975    32.1129  6.6789               2.0159   \n",
       "2                        3.1161    28.7063  4.9103               1.8886   \n",
       "3                        3.7657    34.2499  6.0072               2.4507   \n",
       "4                        3.1560    29.7565  7.9351               1.7133   \n",
       "\n",
       "   Autism Spectrum Disorders  Cancer  ...  Drug Abuse/Substance Abuse  \\\n",
       "0                     1.3647  2.9863  ...                     12.0901   \n",
       "1                     0.5968  3.0063  ...                     12.3682   \n",
       "2                        NaN  3.0217  ...                      8.9707   \n",
       "3                        NaN  3.5565  ...                     14.3156   \n",
       "4                        NaN  3.0658  ...                      8.4761   \n",
       "\n",
       "   HIV/AIDS  Heart Failure  Hepatitis (Chronic Viral B & C)  Hyperlipidemia  \\\n",
       "0    1.6203        10.3439                           2.4773         28.4056   \n",
       "1    1.1868        11.4412                           1.6506         31.0783   \n",
       "2       NaN        11.1426                           1.4164         32.6723   \n",
       "3    0.8368         9.8027                           1.8231         25.6426   \n",
       "4       NaN         9.5582                              NaN         33.9946   \n",
       "\n",
       "   Hypertension  Ischemic Heart Disease  Osteoporosis  \\\n",
       "0       42.5617                 16.8898        2.4552   \n",
       "1       51.9059                 18.3364        2.0297   \n",
       "2       47.7809                 16.9972        3.1161   \n",
       "3       43.9928                 20.2032        2.3013   \n",
       "4       55.1849                 14.9684        1.7133   \n",
       "\n",
       "   Schizophrenia/Other Psychotic Disorders  Stroke  \n",
       "0                                  10.1428  2.7288  \n",
       "1                                   7.6647  2.8649  \n",
       "2                                   7.7432  2.5496  \n",
       "3                                   5.7980  1.9426  \n",
       "4                                   9.0171  2.7051  \n",
       "\n",
       "[5 rows x 24 columns]"
      ]
     },
     "execution_count": 9,
     "metadata": {},
     "output_type": "execute_result"
    }
   ],
   "source": [
    "disease_young.head()"
   ]
  },
  {
   "cell_type": "code",
   "execution_count": 85,
   "metadata": {},
   "outputs": [],
   "source": [
    "odds_dict = dict(\n",
    "    asthma=5.4,\n",
    "    afib=5.4,\n",
    "    cancer=10,\n",
    "    copd=5.4,\n",
    "    chronic_kidney=6,\n",
    "    diabetes=2.85,\n",
    "    hiv_aids=20,\n",
    "    heart_failure=21.4,\n",
    "    hepatitis=5,\n",
    "    hyperlipidemia=3.05,\n",
    "    hypertension=3.05,\n",
    "    ischemic_heart_disease=21.4,\n",
    "    stroke=3\n",
    ")"
   ]
  },
  {
   "cell_type": "code",
   "execution_count": 86,
   "metadata": {},
   "outputs": [],
   "source": [
    "cols = ['State', 'County', 'State/County FIPS Code',\n",
    "       'Asthma',\n",
    "       'Atrial Fibrillation', 'Cancer',\n",
    "       'COPD', 'Chronic Kidney Disease', 'Diabetes',\n",
    "       'HIV/AIDS', 'Heart Failure',\n",
    "       'Hepatitis (Chronic Viral B & C)', 'Hyperlipidemia', 'Hypertension',\n",
    "       'Ischemic Heart Disease',\n",
    "       'Stroke']\n",
    "disease_young = disease_young[cols]\n",
    "disease_old = disease_old[cols]\n",
    "disease_young.columns = ['state', 'county', 'fips'] + list(odds_dict.keys())\n",
    "disease_old.columns = ['state', 'county', 'fips'] + list(odds_dict.keys())"
   ]
  },
  {
   "cell_type": "code",
   "execution_count": 87,
   "metadata": {},
   "outputs": [],
   "source": [
    "disease_young = disease_young.loc[disease_young['state'] == 'California ']\n",
    "disease_old = disease_old.loc[disease_old['state'] == 'California ']"
   ]
  },
  {
   "cell_type": "code",
   "execution_count": 88,
   "metadata": {},
   "outputs": [],
   "source": [
    "# Fill NA with state averages\n",
    "disease_young = disease_young.fillna(dict(disease_young.iloc[0]))\n",
    "disease_old = disease_old.fillna(dict(disease_young.iloc[0]))"
   ]
  },
  {
   "cell_type": "code",
   "execution_count": 97,
   "metadata": {},
   "outputs": [],
   "source": [
    "disease_young['disease_risk'] = np.dot(disease_young[list(odds_dict.keys())], np.log(list(odds_dict.values())))\n",
    "disease_old['disease_risk'] = np.dot(disease_old[list(odds_dict.keys())], np.log(list(odds_dict.values())))"
   ]
  },
  {
   "cell_type": "code",
   "execution_count": 98,
   "metadata": {},
   "outputs": [],
   "source": [
    "disease_young['age_risk'] = np.log(1.14) * 40\n",
    "disease_old['age_risk'] = np.log(1.14) * 70"
   ]
  },
  {
   "cell_type": "code",
   "execution_count": 100,
   "metadata": {},
   "outputs": [],
   "source": [
    "disease_young['total_risk'] = disease_young['age_risk'] + disease_young['disease_risk']\n",
    "disease_old['total_risk'] = disease_old['age_risk'] + disease_old['disease_risk']\n",
    "disease_young['age'] = 'under_65'\n",
    "disease_old['age'] = 'over_65'"
   ]
  },
  {
   "cell_type": "code",
   "execution_count": 120,
   "metadata": {},
   "outputs": [],
   "source": [
    "disease = pd.concat([disease_young, disease_old])"
   ]
  },
  {
   "cell_type": "code",
   "execution_count": 121,
   "metadata": {},
   "outputs": [],
   "source": [
    "disease[disease['county'] == ' '] = 'state_average'"
   ]
  },
  {
   "cell_type": "code",
   "execution_count": 122,
   "metadata": {},
   "outputs": [
    {
     "data": {
      "text/plain": [
       "(array([ 0,  1,  2,  3,  4,  5,  6,  7,  8,  9, 10, 11, 12, 13, 14, 15, 16,\n",
       "        17, 18, 19, 20, 21, 22, 23, 24, 25, 26, 27, 28, 29, 30, 31, 32, 33,\n",
       "        34, 35, 36, 37, 38, 39, 40, 41, 42, 43, 44, 45, 46, 47, 48, 49, 50,\n",
       "        51, 52, 53, 54, 55, 56, 57, 58, 59]),\n",
       " <a list of 60 Text xticklabel objects>)"
      ]
     },
     "execution_count": 122,
     "metadata": {},
     "output_type": "execute_result"
    },
    {
     "data": {
      "image/png": "[encoded data removed]",
      "text/plain": [
       "<Figure size 864x576 with 1 Axes>"
      ]
     },
     "metadata": {
      "needs_background": "light"
     },
     "output_type": "display_data"
    }
   ],
   "source": [
    "sns.set_context('talk')\n",
    "plt.figure(figsize=(12, 8))\n",
    "sns.barplot(data=disease, x='county', y='total_risk', hue='age')\n",
    "plt.xticks(rotation=90)"
   ]
  },
  {
   "cell_type": "code",
   "execution_count": null,
   "metadata": {},
   "outputs": [],
   "source": []
  },
  {
   "cell_type": "markdown",
   "metadata": {},
   "source": [
    "### Downloading From CMS if Necessary"
   ]
  },
  {
   "cell_type": "code",
   "execution_count": 1,
   "metadata": {},
   "outputs": [],
   "source": [
    "import urllib\n",
    "import zipfile\n",
    "import io"
   ]
  },
  {
   "cell_type": "code",
   "execution_count": 2,
   "metadata": {},
   "outputs": [],
   "source": [
    "tmp_file = urllib.request.urlretrieve('https://www.cms.gov/Research-Statistics-Data-and-Systems/Statistics-Trends-and-Reports/Chronic-Conditions/Downloads/CC_Prev_State_County_Age.zip')[0]"
   ]
  },
  {
   "cell_type": "code",
   "execution_count": 5,
   "metadata": {},
   "outputs": [
    {
     "data": {
      "text/html": [
       "<div>\n",
       "<style scoped>\n",
       "    .dataframe tbody tr th:only-of-type {\n",
       "        vertical-align: middle;\n",
       "    }\n",
       "\n",
       "    .dataframe tbody tr th {\n",
       "        vertical-align: top;\n",
       "    }\n",
       "\n",
       "    .dataframe thead th {\n",
       "        text-align: right;\n",
       "    }\n",
       "</style>\n",
       "<table border=\"1\" class=\"dataframe\">\n",
       "  <thead>\n",
       "    <tr style=\"text-align: right;\">\n",
       "      <th></th>\n",
       "      <th>State</th>\n",
       "      <th>County</th>\n",
       "      <th>State/County FIPS Code</th>\n",
       "      <th>Prevalence (%)</th>\n",
       "      <th>Prevalence (%).1</th>\n",
       "      <th>Prevalence (%).2</th>\n",
       "      <th>Prevalence (%).3</th>\n",
       "      <th>Prevalence (%).4</th>\n",
       "      <th>Prevalence (%).5</th>\n",
       "      <th>Prevalence (%).6</th>\n",
       "      <th>...</th>\n",
       "      <th>Prevalence (%).11</th>\n",
       "      <th>Prevalence (%).12</th>\n",
       "      <th>Prevalence (%).13</th>\n",
       "      <th>Prevalence (%).14</th>\n",
       "      <th>Prevalence (%).15</th>\n",
       "      <th>Prevalence (%).16</th>\n",
       "      <th>Prevalence (%).17</th>\n",
       "      <th>Prevalence (%).18</th>\n",
       "      <th>Prevalence (%).19</th>\n",
       "      <th>Prevalence (%).20</th>\n",
       "    </tr>\n",
       "  </thead>\n",
       "  <tbody>\n",
       "    <tr>\n",
       "      <th>0</th>\n",
       "      <td>National</td>\n",
       "      <td></td>\n",
       "      <td></td>\n",
       "      <td>1.7725</td>\n",
       "      <td>12.0640</td>\n",
       "      <td>34.2176</td>\n",
       "      <td>4.6316</td>\n",
       "      <td>9.5033</td>\n",
       "      <td>0.0233</td>\n",
       "      <td>9.2201</td>\n",
       "      <td>...</td>\n",
       "      <td>1.7320</td>\n",
       "      <td>0.1222</td>\n",
       "      <td>14.5429</td>\n",
       "      <td>0.5145</td>\n",
       "      <td>42.9702</td>\n",
       "      <td>59.8793</td>\n",
       "      <td>28.7996</td>\n",
       "      <td>7.0981</td>\n",
       "      <td>1.7199</td>\n",
       "      <td>3.9787</td>\n",
       "    </tr>\n",
       "    <tr>\n",
       "      <th>1</th>\n",
       "      <td>Alabama</td>\n",
       "      <td></td>\n",
       "      <td></td>\n",
       "      <td>1.7334</td>\n",
       "      <td>13.9121</td>\n",
       "      <td>40.3171</td>\n",
       "      <td>4.6723</td>\n",
       "      <td>9.5177</td>\n",
       "      <td>0.0109</td>\n",
       "      <td>9.1872</td>\n",
       "      <td>...</td>\n",
       "      <td>2.3183</td>\n",
       "      <td>0.0776</td>\n",
       "      <td>17.2593</td>\n",
       "      <td>0.3512</td>\n",
       "      <td>48.6242</td>\n",
       "      <td>69.1113</td>\n",
       "      <td>32.8638</td>\n",
       "      <td>7.0105</td>\n",
       "      <td>1.9930</td>\n",
       "      <td>4.6672</td>\n",
       "    </tr>\n",
       "    <tr>\n",
       "      <th>2</th>\n",
       "      <td>Alabama</td>\n",
       "      <td>Autauga</td>\n",
       "      <td>01001</td>\n",
       "      <td>1.5731</td>\n",
       "      <td>12.3911</td>\n",
       "      <td>36.6167</td>\n",
       "      <td>4.4530</td>\n",
       "      <td>10.3098</td>\n",
       "      <td>NaN</td>\n",
       "      <td>9.8742</td>\n",
       "      <td>...</td>\n",
       "      <td>1.7425</td>\n",
       "      <td>NaN</td>\n",
       "      <td>17.0620</td>\n",
       "      <td>0.2904</td>\n",
       "      <td>53.1462</td>\n",
       "      <td>67.7880</td>\n",
       "      <td>34.9952</td>\n",
       "      <td>7.2604</td>\n",
       "      <td>1.8393</td>\n",
       "      <td>4.4530</td>\n",
       "    </tr>\n",
       "    <tr>\n",
       "      <th>3</th>\n",
       "      <td>Alabama</td>\n",
       "      <td>Baldwin</td>\n",
       "      <td>01003</td>\n",
       "      <td>1.7270</td>\n",
       "      <td>12.0132</td>\n",
       "      <td>38.1982</td>\n",
       "      <td>4.7225</td>\n",
       "      <td>10.5444</td>\n",
       "      <td>NaN</td>\n",
       "      <td>9.3159</td>\n",
       "      <td>...</td>\n",
       "      <td>2.4213</td>\n",
       "      <td>0.0623</td>\n",
       "      <td>13.3262</td>\n",
       "      <td>0.3160</td>\n",
       "      <td>46.8198</td>\n",
       "      <td>62.7676</td>\n",
       "      <td>33.6004</td>\n",
       "      <td>6.8589</td>\n",
       "      <td>1.5489</td>\n",
       "      <td>4.1617</td>\n",
       "    </tr>\n",
       "    <tr>\n",
       "      <th>4</th>\n",
       "      <td>Alabama</td>\n",
       "      <td>Barbour</td>\n",
       "      <td>01005</td>\n",
       "      <td>4.0377</td>\n",
       "      <td>14.6030</td>\n",
       "      <td>40.4441</td>\n",
       "      <td>4.6097</td>\n",
       "      <td>8.8156</td>\n",
       "      <td>NaN</td>\n",
       "      <td>10.2961</td>\n",
       "      <td>...</td>\n",
       "      <td>3.6676</td>\n",
       "      <td>NaN</td>\n",
       "      <td>15.3432</td>\n",
       "      <td>NaN</td>\n",
       "      <td>51.2450</td>\n",
       "      <td>71.7362</td>\n",
       "      <td>30.6864</td>\n",
       "      <td>5.8210</td>\n",
       "      <td>2.8264</td>\n",
       "      <td>5.2826</td>\n",
       "    </tr>\n",
       "  </tbody>\n",
       "</table>\n",
       "<p>5 rows × 24 columns</p>\n",
       "</div>"
      ],
      "text/plain": [
       "       State    County State/County FIPS Code  Prevalence (%)  \\\n",
       "0  National                                            1.7725   \n",
       "1   Alabama                                            1.7334   \n",
       "2   Alabama   Autauga                  01001           1.5731   \n",
       "3   Alabama   Baldwin                  01003           1.7270   \n",
       "4   Alabama   Barbour                  01005           4.0377   \n",
       "\n",
       "   Prevalence (%).1  Prevalence (%).2  Prevalence (%).3  Prevalence (%).4  \\\n",
       "0           12.0640           34.2176            4.6316            9.5033   \n",
       "1           13.9121           40.3171            4.6723            9.5177   \n",
       "2           12.3911           36.6167            4.4530           10.3098   \n",
       "3           12.0132           38.1982            4.7225           10.5444   \n",
       "4           14.6030           40.4441            4.6097            8.8156   \n",
       "\n",
       "   Prevalence (%).5  Prevalence (%).6  ...  Prevalence (%).11  \\\n",
       "0            0.0233            9.2201  ...             1.7320   \n",
       "1            0.0109            9.1872  ...             2.3183   \n",
       "2               NaN            9.8742  ...             1.7425   \n",
       "3               NaN            9.3159  ...             2.4213   \n",
       "4               NaN           10.2961  ...             3.6676   \n",
       "\n",
       "   Prevalence (%).12  Prevalence (%).13  Prevalence (%).14  Prevalence (%).15  \\\n",
       "0             0.1222            14.5429             0.5145            42.9702   \n",
       "1             0.0776            17.2593             0.3512            48.6242   \n",
       "2                NaN            17.0620             0.2904            53.1462   \n",
       "3             0.0623            13.3262             0.3160            46.8198   \n",
       "4                NaN            15.3432                NaN            51.2450   \n",
       "\n",
       "   Prevalence (%).16  Prevalence (%).17  Prevalence (%).18  Prevalence (%).19  \\\n",
       "0            59.8793            28.7996             7.0981             1.7199   \n",
       "1            69.1113            32.8638             7.0105             1.9930   \n",
       "2            67.7880            34.9952             7.2604             1.8393   \n",
       "3            62.7676            33.6004             6.8589             1.5489   \n",
       "4            71.7362            30.6864             5.8210             2.8264   \n",
       "\n",
       "   Prevalence (%).20  \n",
       "0             3.9787  \n",
       "1             4.6672  \n",
       "2             4.4530  \n",
       "3             4.1617  \n",
       "4             5.2826  \n",
       "\n",
       "[5 rows x 24 columns]"
      ]
     },
     "execution_count": 5,
     "metadata": {},
     "output_type": "execute_result"
    }
   ],
   "source": [
    "with open(tmp_file, 'rb') as f:\n",
    "    zip_data = zipfile.ZipFile(f)\n",
    "    excel_bytes = io.BytesIO(zip_data.read('County_Table_Chronic_Conditions_Prevalence_by_Age_2017.xlsx'))\n",
    "\n",
    "    disease_old = pd.read_excel(excel_bytes, sheet_name='Beneficiaries 65 Years and Over', skiprows=5, na_values=['* '])\n",
    "    disease_young = pd.read_excel(excel_bytes, sheet_name='Beneficiaries Less than 65 Year', skiprows=5, na_values=['* '])\n",
    "    \n",
    "disease_old.head()   "
   ]
  },
  {
   "cell_type": "code",
   "execution_count": null,
   "metadata": {},
   "outputs": [],
   "source": []
  }
 ],
 "metadata": {
  "kernelspec": {
   "display_name": "Python 3",
   "language": "python",
   "name": "python3"
  },
  "language_info": {
   "codemirror_mode": {
    "name": "ipython",
    "version": 3
   },
   "file_extension": ".py",
   "mimetype": "text/x-python",
   "name": "python",
   "nbconvert_exporter": "python",
   "pygments_lexer": "ipython3",
   "version": "3.7.3"
  }
 },
 "nbformat": 4,
 "nbformat_minor": 2
}
